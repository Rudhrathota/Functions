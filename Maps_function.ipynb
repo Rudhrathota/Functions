{
  "metadata": {
    "kernelspec": {
      "name": "python",
      "display_name": "Python (Pyodide)",
      "language": "python"
    },
    "language_info": {
      "codemirror_mode": {
        "name": "ipython",
        "version": 3
      },
      "file_extension": ".py",
      "mimetype": "text/x-python",
      "name": "python",
      "nbconvert_exporter": "python",
      "pygments_lexer": "ipython3",
      "version": "3.12.0"
    }
  },
  "nbformat_minor": 4,
  "nbformat": 4,
  "cells": [
    {
      "cell_type": "markdown",
      "source": "#### The map() Function in Python\nThe map() function applies a given function to all items in an input list (or any other iterable) and returns a map object (an iterator). This is particularly useful for transforming data in a list comprehensively.",
      "metadata": {}
    },
    {
      "cell_type": "code",
      "source": "def square(x):\n    return x*x\n\nsquare(10)",
      "metadata": {
        "trusted": true
      },
      "outputs": [],
      "execution_count": null
    },
    {
      "cell_type": "code",
      "source": "numbers=[1,2,3,4,5,6,7,8]\n\nlist(map(square,numbers))\n",
      "metadata": {
        "trusted": true
      },
      "outputs": [],
      "execution_count": null
    },
    {
      "cell_type": "code",
      "source": "## Lambda function with map\nnumbers=[1,2,3,4,5,6,7,8]\nlist(map(lambda x:x*x,numbers))",
      "metadata": {
        "trusted": true
      },
      "outputs": [],
      "execution_count": null
    },
    {
      "cell_type": "code",
      "source": "### MAp multiple iterables\n\nnumbers1=[1,2,3]\nnumbers2=[4,5,6]\n\nadded_numbers=list(map(lambda x,y:x+y,numbers1,numbers2))\nprint(added_numbers)",
      "metadata": {
        "trusted": true
      },
      "outputs": [],
      "execution_count": null
    },
    {
      "cell_type": "code",
      "source": "## map() to convert a list of strings to integers\n# Use map to convert strings to integers\nstr_numbers = ['1', '2', '3', '4', '5']\nint_numbers = list(map(int, str_numbers))\n\nprint(int_numbers)  # Output: [1, 2, 3, 4, 5]\n",
      "metadata": {
        "trusted": true
      },
      "outputs": [],
      "execution_count": null
    },
    {
      "cell_type": "code",
      "source": "words=['apple','banana','cherry']\nupper_word=list(map(str.upper,words))\nprint(upper_word)",
      "metadata": {
        "trusted": true
      },
      "outputs": [],
      "execution_count": null
    },
    {
      "cell_type": "code",
      "source": "def get_name(person):\n    return person['name']\n\npeople=[\n    {'name':'Rudhra','age':26},\n    {'name':'Purna','age':28}\n]\nlist(map(get_name,people))\n\n",
      "metadata": {
        "trusted": true
      },
      "outputs": [],
      "execution_count": null
    },
    {
      "cell_type": "markdown",
      "source": "#### Conclusion\nThe map() function is a powerful tool for applying transformations to iterable data structures. It can be used with regular functions, lambda functions, and even multiple iterables, providing a versatile approach to data processing in Python. By understanding and utilizing map(), you can write more efficient and readable code.",
      "metadata": {}
    },
    {
      "cell_type": "code",
      "source": "",
      "metadata": {
        "trusted": true
      },
      "outputs": [],
      "execution_count": null
    }
  ]
}