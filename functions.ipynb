{
  "metadata": {
    "kernelspec": {
      "name": "python",
      "display_name": "Python (Pyodide)",
      "language": "python"
    },
    "language_info": {
      "codemirror_mode": {
        "name": "ipython",
        "version": 3
      },
      "file_extension": ".py",
      "mimetype": "text/x-python",
      "name": "python",
      "nbconvert_exporter": "python",
      "pygments_lexer": "ipython3",
      "version": "3.12.0"
    }
  },
  "nbformat_minor": 4,
  "nbformat": 4,
  "cells": [
    {
      "cell_type": "markdown",
      "source": "#### Functions in Python\nVideo Outline:\n1. Introduction to Functions\n2. Defining Functions\n3. Calling Functions\n4. Function Parameters\n5. Default Parameters\n6. Variable-Length Arguments\n7. Return Statement",
      "metadata": {}
    },
    {
      "cell_type": "markdown",
      "source": "##### Introduction to Functions\nDefinition:\n\nA function is a block of code that performs a specific task.\nFunctions help in organizing code, reusing code, and improving readability.\n\n",
      "metadata": {}
    },
    {
      "cell_type": "code",
      "source": "## syntax\ndef function_name(parameters):\n    \"\"\"Docstring\"\"\"\n    # Function body\n    return expression\n",
      "metadata": {
        "trusted": true
      },
      "outputs": [],
      "execution_count": null
    },
    {
      "cell_type": "code",
      "source": "## why functions?\nnum=24\nif num%2==0:\n    print(\"the number is even\")\nelse:\n    print(\"the number is odd\")",
      "metadata": {
        "trusted": true
      },
      "outputs": [],
      "execution_count": null
    },
    {
      "cell_type": "code",
      "source": "def even_or_odd(num):\n    \"\"\"This function finds even or odd\"\"\"\n    if num%2==0:\n        print(\"the number is even\")\n    else:\n        print(\"the number is odd\")\n",
      "metadata": {
        "trusted": true
      },
      "outputs": [],
      "execution_count": null
    },
    {
      "cell_type": "code",
      "source": "## Call this function\neven_or_odd(24)",
      "metadata": {
        "trusted": true
      },
      "outputs": [],
      "execution_count": null
    },
    {
      "cell_type": "code",
      "source": "## function with multiple parameters\n\ndef add(a,b):\n    return a+b\n\nresult=add(2,4)\nprint(result)\n    ",
      "metadata": {
        "trusted": true
      },
      "outputs": [],
      "execution_count": null
    },
    {
      "cell_type": "code",
      "source": "## Default Parameters\n\ndef greet(name):\n    print(f\"Hello {name} Welcome To the paradise\")\n\ngreet(\"Rudhra\")\n",
      "metadata": {
        "trusted": true
      },
      "outputs": [],
      "execution_count": null
    },
    {
      "cell_type": "code",
      "source": "def greet(name=\"Guest\"):\n    print(f\"Hello {name} Welcome To the paradise\")\n\ngreet(\"Rudhra\")",
      "metadata": {
        "trusted": true
      },
      "outputs": [],
      "execution_count": null
    },
    {
      "cell_type": "code",
      "source": "### Variable Length Arguments\n## Positional And Keywords arguments\n\ndef print_numbers(*krish):\n    for number in krish:\n        print(number)",
      "metadata": {
        "trusted": true
      },
      "outputs": [],
      "execution_count": null
    },
    {
      "cell_type": "code",
      "source": "print_numbers(1,2,3,4,5,6,7,8,\"Rudhra\")",
      "metadata": {
        "trusted": true
      },
      "outputs": [],
      "execution_count": null
    },
    {
      "cell_type": "code",
      "source": "## Positional arguments\ndef print_numbers(*args):\n    for number in args:\n        print(number)",
      "metadata": {
        "trusted": true
      },
      "outputs": [],
      "execution_count": null
    },
    {
      "cell_type": "code",
      "source": "print_numbers(1,2,3,4,5,6,7,8,\"Rudhra\")",
      "metadata": {
        "trusted": true
      },
      "outputs": [],
      "execution_count": null
    },
    {
      "cell_type": "code",
      "source": "### Keywords Arguments\n\ndef print_details(**kwargs):\n    for key,value in kwargs.items():\n        print(f\"{key}:{value}\")",
      "metadata": {
        "trusted": true
      },
      "outputs": [],
      "execution_count": null
    },
    {
      "cell_type": "code",
      "source": "print_details(name=\"Rudhra\",age=\"26\",country=\"India\")",
      "metadata": {
        "trusted": true
      },
      "outputs": [],
      "execution_count": null
    },
    {
      "cell_type": "code",
      "source": "def print_details(*args,**kwargs):\n    for val in args:\n        print(f\" Positional arument :{val}\")\n    \n    for key,value in kwargs.items():\n        print(f\"{key}:{value}\")",
      "metadata": {
        "trusted": true
      },
      "outputs": [],
      "execution_count": null
    },
    {
      "cell_type": "code",
      "source": "print_details(1,2,3,4,\"Rudhra\",name=\"Rudhra\",age=\"26\",country=\"India\")",
      "metadata": {
        "trusted": true
      },
      "outputs": [],
      "execution_count": null
    },
    {
      "cell_type": "code",
      "source": "### Return statements\ndef multiply(a,b):\n    return a*b\n\nmultiply(2,3)",
      "metadata": {
        "trusted": true
      },
      "outputs": [],
      "execution_count": null
    },
    {
      "cell_type": "code",
      "source": "### Return multiple parameters\ndef multiply(a,b):\n    return a*b,a\n\nmultiply(2,3)",
      "metadata": {
        "trusted": true
      },
      "outputs": [],
      "execution_count": null
    },
    {
      "cell_type": "code",
      "source": "",
      "metadata": {
        "trusted": true
      },
      "outputs": [],
      "execution_count": null
    }
  ]
}